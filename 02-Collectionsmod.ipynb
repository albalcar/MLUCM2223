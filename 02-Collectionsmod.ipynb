{
  "cells": [
    {
      "cell_type": "markdown",
      "metadata": {
        "id": "1kXfxQnMQVok"
      },
      "source": [
        "# Más sobre colecciones"
      ]
    },
    {
      "cell_type": "markdown",
      "metadata": {
        "id": "4yvQ0tS2QVom"
      },
      "source": [
        "## Deque: Usando listas como colas\n",
        "\n",
        "También es posible usar una lista como cola, donde el primer elemento agregado es el primer elemento recuperado (\"primero en entrar, primero en salir\"). Sin embargo, las listas no son eficientes para este propósito. Si bien las inserciones y extracciones al final de la lista son rápidas, hacer inserciones o extracciones desde el comienzo de una lista es lento, porque todos los otros elementos deben desplazarse un lugar.\n",
        "\n",
        "Para implementar una cola, se debe usar **collections.deque** que está diseñado para permitir inserciones y extracciones rápidas desde ambos extremos."
      ]
    },
    {
      "cell_type": "code",
      "execution_count": null,
      "metadata": {
        "id": "NvCIX8eNQVon",
        "outputId": "7f58d677-751f-4612-98ee-2757a24cd85f"
      },
      "outputs": [
        {
          "name": "stdout",
          "output_type": "stream",
          "text": [
            "deque(['Eric', 'John', 'Michael', 'Terry', 'Graham'])\n",
            "deque(['John', 'Michael', 'Terry', 'Graham'])\n",
            "deque(['Michael', 'Terry', 'Graham'])\n"
          ]
        }
      ],
      "source": [
        "from collections import deque\n",
        "queue = deque([\"Eric\", \"John\", \"Michael\"])\n",
        "queue.append(\"Terry\")           # Terry arrives\n",
        "queue.append(\"Graham\")          # Graham arrives\n",
        "print(queue)\n",
        "queue.popleft()                 # The first to arrive now leaves\n",
        "print(queue)\n",
        "queue.popleft()                 # The second to arrive now leaves\n",
        "print(queue)                           # Remaining queue in order of arrival"
      ]
    },
    {
      "cell_type": "markdown",
      "metadata": {
        "id": "xDTQRq3wQVop"
      },
      "source": [
        "## OrderedDict\n",
        "\n",
        "Los diccionarios ordenados son como los diccionarios regulares, pero recuerdan el orden en que se insertaron los elementos. Al iterar sobre un diccionario ordenado, los elementos se devuelven en el orden en que se agregaron sus claves por primera vez."
      ]
    },
    {
      "cell_type": "code",
      "execution_count": 1,
      "metadata": {
        "id": "iAlsS5zwQVoq",
        "outputId": "2a4c43a6-5614-4280-f17b-31ad43bcbca7",
        "colab": {
          "base_uri": "https://localhost:8080/"
        }
      },
      "outputs": [
        {
          "output_type": "execute_result",
          "data": {
            "text/plain": [
              "OrderedDict([('pear', 1), ('apple', 4), ('orange', 2), ('banana', 3)])"
            ]
          },
          "metadata": {},
          "execution_count": 1
        }
      ],
      "source": [
        "from collections import *\n",
        "\n",
        "# regular unsorted dictionary\n",
        "d = {'banana': 3, 'apple': 4, 'pear': 1, 'orange': 2}\n",
        "\n",
        "# dictionary sorted by key\n",
        "OrderedDict(sorted(d.items(), key=lambda t: t[0]))#d.items saca los elementos. lambda t: t[0] funcion anonima. La funcion no la voy a usar mas pero es util definirla\n",
        "OrderedDict([('apple', 4), ('banana', 3), ('orange', 2), ('pear', 1)])#Aqui ordenamos por orden alfabetico\n",
        "\n",
        "# dictionary sorted by value\n",
        "OrderedDict(sorted(d.items(), key=lambda t: t[1]))#Aqui ordenamos por el segundo elemento de los items. Podriamos poner un menos para que ordene de menor a mayor\n",
        "OrderedDict([('pear', 1), ('orange', 2), ('banana', 3), ('apple', 4)])\n",
        "\n",
        "# dictionary sorted by length of the key string\n",
        "OrderedDict(sorted(d.items(), key=lambda t: len(t[0])))#Aqui también podemos poner un menos para orenar de menor a mayor\n",
        "OrderedDict([('pear', 1), ('apple', 4), ('orange', 2), ('banana', 3)])"
      ]
    },
    {
      "cell_type": "markdown",
      "metadata": {
        "collapsed": true,
        "id": "6NUB-af8QVor"
      },
      "source": [
        "## Set\n",
        "\n",
        "Los conjuntos (sets) son listas sin duplicados. Por ejemplo, si quisiéramos extraer de una cadena de texto todas las palabras distintas, podríamos hacer lo siguiente:\n",
        "###*Util para programa un K medias"
      ]
    },
    {
      "cell_type": "code",
      "execution_count": 2,
      "metadata": {
        "id": "XP4nVM8HQVor",
        "outputId": "ee02d961-d7d9-4458-fa07-e1bb636d7b36",
        "colab": {
          "base_uri": "https://localhost:8080/"
        }
      },
      "outputs": [
        {
          "output_type": "stream",
          "name": "stdout",
          "text": [
            "['tanto', 'monta', 'monta', 'tanto']\n",
            "{'monta', 'tanto'}\n"
          ]
        }
      ],
      "source": [
        "texto = \"tanto monta monta tanto\".split()\n",
        "print(texto)\n",
        "print(set(texto))"
      ]
    },
    {
      "cell_type": "markdown",
      "metadata": {
        "id": "DS04u3FmQVos"
      },
      "source": [
        "Además, podemos operar sobre los conjuntos creando uniones, intersecciones o diferencias."
      ]
    },
    {
      "cell_type": "code",
      "execution_count": 3,
      "metadata": {
        "id": "eYuabGXEQVos",
        "outputId": "b0564d37-df16-4370-c030-a2316fd706f1",
        "colab": {
          "base_uri": "https://localhost:8080/"
        }
      },
      "outputs": [
        {
          "output_type": "stream",
          "name": "stdout",
          "text": [
            "{1, 2, 3, 4, 5, 6, 7}\n",
            "{3, 4, 5}\n",
            "{1, 2}\n"
          ]
        }
      ],
      "source": [
        "s1 = set([1,2,3,4,5])\n",
        "s2 = set([3,4,5,6,7])\n",
        "print(s1.union(s2))\n",
        "print(s1.intersection(s2))\n",
        "print(s1.difference(s2))"
      ]
    },
    {
      "cell_type": "code",
      "execution_count": null,
      "metadata": {
        "collapsed": true,
        "id": "vnbnBs1vQVot"
      },
      "outputs": [],
      "source": []
    }
  ],
  "metadata": {
    "kernelspec": {
      "display_name": "Python 3",
      "language": "python",
      "name": "python3"
    },
    "language_info": {
      "codemirror_mode": {
        "name": "ipython",
        "version": 3
      },
      "file_extension": ".py",
      "mimetype": "text/x-python",
      "name": "python",
      "nbconvert_exporter": "python",
      "pygments_lexer": "ipython3",
      "version": "3.6.5"
    },
    "colab": {
      "name": "02-Collections.ipynb",
      "provenance": []
    }
  },
  "nbformat": 4,
  "nbformat_minor": 0
}